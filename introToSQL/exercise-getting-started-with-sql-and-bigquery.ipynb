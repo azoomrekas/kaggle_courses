{
 "cells": [
  {
   "cell_type": "markdown",
   "id": "2dd90bff",
   "metadata": {
    "papermill": {
     "duration": 0.006169,
     "end_time": "2022-08-19T18:23:39.695132",
     "exception": false,
     "start_time": "2022-08-19T18:23:39.688963",
     "status": "completed"
    },
    "tags": []
   },
   "source": [
    "**This notebook is an exercise in the [SQL](https://www.kaggle.com/learn/intro-to-sql) course.  You can reference the tutorial at [this link](https://www.kaggle.com/dansbecker/getting-started-with-sql-and-bigquery).**\n",
    "\n",
    "---\n"
   ]
  },
  {
   "cell_type": "markdown",
   "id": "2947340d",
   "metadata": {
    "papermill": {
     "duration": 0.004741,
     "end_time": "2022-08-19T18:23:39.705228",
     "exception": false,
     "start_time": "2022-08-19T18:23:39.700487",
     "status": "completed"
    },
    "tags": []
   },
   "source": [
    "# Introduction\n",
    "\n",
    "The first test of your new data exploration skills uses data describing crime in the city of Chicago.\n",
    "\n",
    "Before you get started, run the following cell. It sets up the automated feedback system to review your answers."
   ]
  },
  {
   "cell_type": "code",
   "execution_count": 1,
   "id": "03abcc69",
   "metadata": {
    "execution": {
     "iopub.execute_input": "2022-08-19T18:23:39.717837Z",
     "iopub.status.busy": "2022-08-19T18:23:39.716599Z",
     "iopub.status.idle": "2022-08-19T18:23:40.732427Z",
     "shell.execute_reply": "2022-08-19T18:23:40.731122Z"
    },
    "papermill": {
     "duration": 1.02469,
     "end_time": "2022-08-19T18:23:40.735058",
     "exception": false,
     "start_time": "2022-08-19T18:23:39.710368",
     "status": "completed"
    },
    "tags": []
   },
   "outputs": [
    {
     "name": "stdout",
     "output_type": "stream",
     "text": [
      "Using Kaggle's public dataset BigQuery integration.\n",
      "Setup Complete\n"
     ]
    }
   ],
   "source": [
    "# Set up feedack system\n",
    "from learntools.core import binder\n",
    "binder.bind(globals())\n",
    "from learntools.sql.ex1 import *\n",
    "print(\"Setup Complete\")"
   ]
  },
  {
   "cell_type": "markdown",
   "id": "087e6861",
   "metadata": {
    "papermill": {
     "duration": 0.004925,
     "end_time": "2022-08-19T18:23:40.745298",
     "exception": false,
     "start_time": "2022-08-19T18:23:40.740373",
     "status": "completed"
    },
    "tags": []
   },
   "source": [
    "Use the next code cell to fetch the dataset."
   ]
  },
  {
   "cell_type": "code",
   "execution_count": 2,
   "id": "4318b699",
   "metadata": {
    "execution": {
     "iopub.execute_input": "2022-08-19T18:23:40.757287Z",
     "iopub.status.busy": "2022-08-19T18:23:40.756491Z",
     "iopub.status.idle": "2022-08-19T18:23:41.190986Z",
     "shell.execute_reply": "2022-08-19T18:23:41.189420Z"
    },
    "papermill": {
     "duration": 0.443335,
     "end_time": "2022-08-19T18:23:41.193577",
     "exception": false,
     "start_time": "2022-08-19T18:23:40.750242",
     "status": "completed"
    },
    "tags": []
   },
   "outputs": [
    {
     "name": "stdout",
     "output_type": "stream",
     "text": [
      "Using Kaggle's public dataset BigQuery integration.\n"
     ]
    }
   ],
   "source": [
    "from google.cloud import bigquery\n",
    "\n",
    "# Create a \"Client\" object\n",
    "client = bigquery.Client()\n",
    "\n",
    "# Construct a reference to the \"chicago_crime\" dataset\n",
    "dataset_ref = client.dataset(\"chicago_crime\", project=\"bigquery-public-data\")\n",
    "\n",
    "# API request - fetch the dataset\n",
    "dataset = client.get_dataset(dataset_ref)"
   ]
  },
  {
   "cell_type": "markdown",
   "id": "cc4e91fd",
   "metadata": {
    "papermill": {
     "duration": 0.00507,
     "end_time": "2022-08-19T18:23:41.204209",
     "exception": false,
     "start_time": "2022-08-19T18:23:41.199139",
     "status": "completed"
    },
    "tags": []
   },
   "source": [
    "# Exercises\n",
    "\n",
    "### 1) Count tables in the dataset\n",
    "\n",
    "How many tables are in the Chicago Crime dataset?"
   ]
  },
  {
   "cell_type": "code",
   "execution_count": 3,
   "id": "ac925247",
   "metadata": {
    "execution": {
     "iopub.execute_input": "2022-08-19T18:23:41.217261Z",
     "iopub.status.busy": "2022-08-19T18:23:41.216155Z",
     "iopub.status.idle": "2022-08-19T18:23:41.221967Z",
     "shell.execute_reply": "2022-08-19T18:23:41.220842Z"
    },
    "papermill": {
     "duration": 0.014761,
     "end_time": "2022-08-19T18:23:41.224238",
     "exception": false,
     "start_time": "2022-08-19T18:23:41.209477",
     "status": "completed"
    },
    "tags": []
   },
   "outputs": [],
   "source": [
    "# Write the code you need here to figure out the answer"
   ]
  },
  {
   "cell_type": "code",
   "execution_count": 4,
   "id": "19ce5e8b",
   "metadata": {
    "execution": {
     "iopub.execute_input": "2022-08-19T18:23:41.238063Z",
     "iopub.status.busy": "2022-08-19T18:23:41.237106Z",
     "iopub.status.idle": "2022-08-19T18:23:41.515280Z",
     "shell.execute_reply": "2022-08-19T18:23:41.514166Z"
    },
    "papermill": {
     "duration": 0.287764,
     "end_time": "2022-08-19T18:23:41.517757",
     "exception": false,
     "start_time": "2022-08-19T18:23:41.229993",
     "status": "completed"
    },
    "tags": []
   },
   "outputs": [
    {
     "data": {
      "application/javascript": [
       "parent.postMessage({\"jupyterEvent\": \"custom.exercise_interaction\", \"data\": {\"outcomeType\": 1, \"valueTowardsCompletion\": 0.3333333333333333, \"interactionType\": 1, \"questionType\": 1, \"questionId\": \"1_CountTables\", \"learnToolsVersion\": \"0.3.4\", \"failureMessage\": \"\", \"exceptionClass\": \"\", \"trace\": \"\"}}, \"*\")"
      ],
      "text/plain": [
       "<IPython.core.display.Javascript object>"
      ]
     },
     "metadata": {},
     "output_type": "display_data"
    },
    {
     "data": {
      "text/markdown": [
       "<span style=\"color:#33cc33\">Correct</span>"
      ],
      "text/plain": [
       "Correct"
      ]
     },
     "metadata": {},
     "output_type": "display_data"
    }
   ],
   "source": [
    "num_tables = len(list(client.list_tables(dataset)))  # Store the answer as num_tables and then run this cell\n",
    "\n",
    "# Check your answer\n",
    "q_1.check()"
   ]
  },
  {
   "cell_type": "markdown",
   "id": "97b33da3",
   "metadata": {
    "papermill": {
     "duration": 0.005156,
     "end_time": "2022-08-19T18:23:41.528531",
     "exception": false,
     "start_time": "2022-08-19T18:23:41.523375",
     "status": "completed"
    },
    "tags": []
   },
   "source": [
    "For a hint or the solution, uncomment the appropriate line below."
   ]
  },
  {
   "cell_type": "code",
   "execution_count": 5,
   "id": "5e089f5b",
   "metadata": {
    "execution": {
     "iopub.execute_input": "2022-08-19T18:23:41.541150Z",
     "iopub.status.busy": "2022-08-19T18:23:41.540451Z",
     "iopub.status.idle": "2022-08-19T18:23:41.545031Z",
     "shell.execute_reply": "2022-08-19T18:23:41.543917Z"
    },
    "papermill": {
     "duration": 0.013327,
     "end_time": "2022-08-19T18:23:41.547212",
     "exception": false,
     "start_time": "2022-08-19T18:23:41.533885",
     "status": "completed"
    },
    "tags": []
   },
   "outputs": [],
   "source": [
    "#q_1.hint()\n",
    "#q_1.solution()"
   ]
  },
  {
   "cell_type": "markdown",
   "id": "f0757515",
   "metadata": {
    "papermill": {
     "duration": 0.005129,
     "end_time": "2022-08-19T18:23:41.557735",
     "exception": false,
     "start_time": "2022-08-19T18:23:41.552606",
     "status": "completed"
    },
    "tags": []
   },
   "source": [
    "### 2) Explore the table schema\n",
    "\n",
    "How many columns in the `crime` table have `TIMESTAMP` data?"
   ]
  },
  {
   "cell_type": "code",
   "execution_count": 6,
   "id": "7ff10c8b",
   "metadata": {
    "execution": {
     "iopub.execute_input": "2022-08-19T18:23:41.571048Z",
     "iopub.status.busy": "2022-08-19T18:23:41.570166Z",
     "iopub.status.idle": "2022-08-19T18:23:41.899065Z",
     "shell.execute_reply": "2022-08-19T18:23:41.898073Z"
    },
    "papermill": {
     "duration": 0.338058,
     "end_time": "2022-08-19T18:23:41.901183",
     "exception": false,
     "start_time": "2022-08-19T18:23:41.563125",
     "status": "completed"
    },
    "tags": []
   },
   "outputs": [
    {
     "data": {
      "text/plain": [
       "[SchemaField('unique_key', 'INTEGER', 'REQUIRED', None, (), None),\n",
       " SchemaField('case_number', 'STRING', 'NULLABLE', None, (), None),\n",
       " SchemaField('date', 'TIMESTAMP', 'NULLABLE', None, (), None),\n",
       " SchemaField('block', 'STRING', 'NULLABLE', None, (), None),\n",
       " SchemaField('iucr', 'STRING', 'NULLABLE', None, (), None),\n",
       " SchemaField('primary_type', 'STRING', 'NULLABLE', None, (), None),\n",
       " SchemaField('description', 'STRING', 'NULLABLE', None, (), None),\n",
       " SchemaField('location_description', 'STRING', 'NULLABLE', None, (), None),\n",
       " SchemaField('arrest', 'BOOLEAN', 'NULLABLE', None, (), None),\n",
       " SchemaField('domestic', 'BOOLEAN', 'NULLABLE', None, (), None),\n",
       " SchemaField('beat', 'INTEGER', 'NULLABLE', None, (), None),\n",
       " SchemaField('district', 'INTEGER', 'NULLABLE', None, (), None),\n",
       " SchemaField('ward', 'INTEGER', 'NULLABLE', None, (), None),\n",
       " SchemaField('community_area', 'INTEGER', 'NULLABLE', None, (), None),\n",
       " SchemaField('fbi_code', 'STRING', 'NULLABLE', None, (), None),\n",
       " SchemaField('x_coordinate', 'FLOAT', 'NULLABLE', None, (), None),\n",
       " SchemaField('y_coordinate', 'FLOAT', 'NULLABLE', None, (), None),\n",
       " SchemaField('year', 'INTEGER', 'NULLABLE', None, (), None),\n",
       " SchemaField('updated_on', 'TIMESTAMP', 'NULLABLE', None, (), None),\n",
       " SchemaField('latitude', 'FLOAT', 'NULLABLE', None, (), None),\n",
       " SchemaField('longitude', 'FLOAT', 'NULLABLE', None, (), None),\n",
       " SchemaField('location', 'STRING', 'NULLABLE', None, (), None)]"
      ]
     },
     "execution_count": 6,
     "metadata": {},
     "output_type": "execute_result"
    }
   ],
   "source": [
    "table_ref = dataset_ref.table(\"crime\")\n",
    "table = client.get_table(table_ref)\n",
    "table.schema\n",
    "\n",
    "\n",
    "\n",
    " "
   ]
  },
  {
   "cell_type": "code",
   "execution_count": 7,
   "id": "0338373b",
   "metadata": {
    "execution": {
     "iopub.execute_input": "2022-08-19T18:23:41.914947Z",
     "iopub.status.busy": "2022-08-19T18:23:41.914099Z",
     "iopub.status.idle": "2022-08-19T18:23:41.922481Z",
     "shell.execute_reply": "2022-08-19T18:23:41.921656Z"
    },
    "papermill": {
     "duration": 0.018273,
     "end_time": "2022-08-19T18:23:41.925127",
     "exception": false,
     "start_time": "2022-08-19T18:23:41.906854",
     "status": "completed"
    },
    "tags": []
   },
   "outputs": [
    {
     "data": {
      "application/javascript": [
       "parent.postMessage({\"jupyterEvent\": \"custom.exercise_interaction\", \"data\": {\"outcomeType\": 1, \"valueTowardsCompletion\": 0.3333333333333333, \"interactionType\": 1, \"questionType\": 1, \"questionId\": \"2_CountTimestampFields\", \"learnToolsVersion\": \"0.3.4\", \"failureMessage\": \"\", \"exceptionClass\": \"\", \"trace\": \"\"}}, \"*\")"
      ],
      "text/plain": [
       "<IPython.core.display.Javascript object>"
      ]
     },
     "metadata": {},
     "output_type": "display_data"
    },
    {
     "data": {
      "text/markdown": [
       "<span style=\"color:#33cc33\">Correct</span>"
      ],
      "text/plain": [
       "Correct"
      ]
     },
     "metadata": {},
     "output_type": "display_data"
    }
   ],
   "source": [
    "num_timestamp_fields = 2# Put your answer here\n",
    "# Check your answer\n",
    "q_2.check()"
   ]
  },
  {
   "cell_type": "markdown",
   "id": "bc892824",
   "metadata": {
    "papermill": {
     "duration": 0.008268,
     "end_time": "2022-08-19T18:23:41.941998",
     "exception": false,
     "start_time": "2022-08-19T18:23:41.933730",
     "status": "completed"
    },
    "tags": []
   },
   "source": [
    "For a hint or the solution, uncomment the appropriate line below."
   ]
  },
  {
   "cell_type": "code",
   "execution_count": 8,
   "id": "400f76a3",
   "metadata": {
    "execution": {
     "iopub.execute_input": "2022-08-19T18:23:41.957984Z",
     "iopub.status.busy": "2022-08-19T18:23:41.956937Z",
     "iopub.status.idle": "2022-08-19T18:23:41.961430Z",
     "shell.execute_reply": "2022-08-19T18:23:41.960265Z"
    },
    "papermill": {
     "duration": 0.014089,
     "end_time": "2022-08-19T18:23:41.963892",
     "exception": false,
     "start_time": "2022-08-19T18:23:41.949803",
     "status": "completed"
    },
    "tags": []
   },
   "outputs": [],
   "source": [
    "#q_2.hint()\n",
    "#q_2.solution()"
   ]
  },
  {
   "cell_type": "markdown",
   "id": "65568fe8",
   "metadata": {
    "papermill": {
     "duration": 0.007111,
     "end_time": "2022-08-19T18:23:41.977498",
     "exception": false,
     "start_time": "2022-08-19T18:23:41.970387",
     "status": "completed"
    },
    "tags": []
   },
   "source": [
    "### 3) Create a crime map\n",
    "\n",
    "If you wanted to create a map with a dot at the location of each crime, what are the names of the two fields you likely need to pull out of the `crime` table to plot the crimes on a map?"
   ]
  },
  {
   "cell_type": "code",
   "execution_count": 9,
   "id": "8894d3eb",
   "metadata": {
    "execution": {
     "iopub.execute_input": "2022-08-19T18:23:41.991577Z",
     "iopub.status.busy": "2022-08-19T18:23:41.991185Z",
     "iopub.status.idle": "2022-08-19T18:23:41.995523Z",
     "shell.execute_reply": "2022-08-19T18:23:41.994409Z"
    },
    "papermill": {
     "duration": 0.013736,
     "end_time": "2022-08-19T18:23:41.997781",
     "exception": false,
     "start_time": "2022-08-19T18:23:41.984045",
     "status": "completed"
    },
    "tags": []
   },
   "outputs": [],
   "source": [
    "# Write the code here to explore the data so you can find the answer"
   ]
  },
  {
   "cell_type": "code",
   "execution_count": 10,
   "id": "4c70cfa9",
   "metadata": {
    "execution": {
     "iopub.execute_input": "2022-08-19T18:23:42.011121Z",
     "iopub.status.busy": "2022-08-19T18:23:42.010383Z",
     "iopub.status.idle": "2022-08-19T18:23:42.018857Z",
     "shell.execute_reply": "2022-08-19T18:23:42.017841Z"
    },
    "papermill": {
     "duration": 0.017291,
     "end_time": "2022-08-19T18:23:42.020830",
     "exception": false,
     "start_time": "2022-08-19T18:23:42.003539",
     "status": "completed"
    },
    "tags": []
   },
   "outputs": [
    {
     "data": {
      "application/javascript": [
       "parent.postMessage({\"jupyterEvent\": \"custom.exercise_interaction\", \"data\": {\"outcomeType\": 1, \"valueTowardsCompletion\": 0.3333333333333333, \"interactionType\": 1, \"questionType\": 2, \"questionId\": \"3_IdentifyFieldsForPlotting\", \"learnToolsVersion\": \"0.3.4\", \"failureMessage\": \"\", \"exceptionClass\": \"\", \"trace\": \"\"}}, \"*\")"
      ],
      "text/plain": [
       "<IPython.core.display.Javascript object>"
      ]
     },
     "metadata": {},
     "output_type": "display_data"
    },
    {
     "data": {
      "text/markdown": [
       "<span style=\"color:#33cc33\">Correct</span>"
      ],
      "text/plain": [
       "Correct"
      ]
     },
     "metadata": {},
     "output_type": "display_data"
    }
   ],
   "source": [
    "fields_for_plotting = ['longitude', 'latitude'] # Put your answers here\n",
    "\n",
    "# Check your answer\n",
    "q_3.check()"
   ]
  },
  {
   "cell_type": "markdown",
   "id": "dbd167f4",
   "metadata": {
    "papermill": {
     "duration": 0.005913,
     "end_time": "2022-08-19T18:23:42.032699",
     "exception": false,
     "start_time": "2022-08-19T18:23:42.026786",
     "status": "completed"
    },
    "tags": []
   },
   "source": [
    "For a hint or the solution, uncomment the appropriate line below."
   ]
  },
  {
   "cell_type": "code",
   "execution_count": 11,
   "id": "2fbdff21",
   "metadata": {
    "execution": {
     "iopub.execute_input": "2022-08-19T18:23:42.046458Z",
     "iopub.status.busy": "2022-08-19T18:23:42.045860Z",
     "iopub.status.idle": "2022-08-19T18:23:42.049975Z",
     "shell.execute_reply": "2022-08-19T18:23:42.049148Z"
    },
    "papermill": {
     "duration": 0.013316,
     "end_time": "2022-08-19T18:23:42.051973",
     "exception": false,
     "start_time": "2022-08-19T18:23:42.038657",
     "status": "completed"
    },
    "tags": []
   },
   "outputs": [],
   "source": [
    "#q_3.hint()\n",
    "#q_3.solution()"
   ]
  },
  {
   "cell_type": "markdown",
   "id": "9f5ef7b6",
   "metadata": {
    "papermill": {
     "duration": 0.005644,
     "end_time": "2022-08-19T18:23:42.063559",
     "exception": false,
     "start_time": "2022-08-19T18:23:42.057915",
     "status": "completed"
    },
    "tags": []
   },
   "source": [
    "Thinking about the question above, there are a few columns that appear to have geographic data. Look at a few values (with the `list_rows()` command) to see if you can determine their relationship.  Two columns will still be hard to interpret. But it should be obvious how the `location` column relates to `latitude` and `longitude`."
   ]
  },
  {
   "cell_type": "code",
   "execution_count": 12,
   "id": "d422b7d0",
   "metadata": {
    "execution": {
     "iopub.execute_input": "2022-08-19T18:23:42.077433Z",
     "iopub.status.busy": "2022-08-19T18:23:42.076805Z",
     "iopub.status.idle": "2022-08-19T18:23:42.081464Z",
     "shell.execute_reply": "2022-08-19T18:23:42.080187Z"
    },
    "papermill": {
     "duration": 0.014328,
     "end_time": "2022-08-19T18:23:42.083783",
     "exception": false,
     "start_time": "2022-08-19T18:23:42.069455",
     "status": "completed"
    },
    "tags": []
   },
   "outputs": [],
   "source": [
    "# Scratch space for your code"
   ]
  },
  {
   "cell_type": "markdown",
   "id": "a1be7404",
   "metadata": {
    "papermill": {
     "duration": 0.0059,
     "end_time": "2022-08-19T18:23:42.095744",
     "exception": false,
     "start_time": "2022-08-19T18:23:42.089844",
     "status": "completed"
    },
    "tags": []
   },
   "source": [
    "# Keep going\n",
    "\n",
    "You've looked at the schema, but you haven't yet done anything exciting with the data itself. Things get more interesting when you get to the data, so keep going to **[write your first SQL query](https://www.kaggle.com/dansbecker/select-from-where).**"
   ]
  },
  {
   "cell_type": "markdown",
   "id": "a052c24a",
   "metadata": {
    "papermill": {
     "duration": 0.006155,
     "end_time": "2022-08-19T18:23:42.107864",
     "exception": false,
     "start_time": "2022-08-19T18:23:42.101709",
     "status": "completed"
    },
    "tags": []
   },
   "source": [
    "---\n",
    "\n",
    "\n",
    "\n",
    "\n",
    "*Have questions or comments? Visit the [course discussion forum](https://www.kaggle.com/learn/intro-to-sql/discussion) to chat with other learners.*"
   ]
  }
 ],
 "metadata": {
  "kernelspec": {
   "display_name": "Python 3",
   "language": "python",
   "name": "python3"
  },
  "language_info": {
   "codemirror_mode": {
    "name": "ipython",
    "version": 3
   },
   "file_extension": ".py",
   "mimetype": "text/x-python",
   "name": "python",
   "nbconvert_exporter": "python",
   "pygments_lexer": "ipython3",
   "version": "3.7.12"
  },
  "papermill": {
   "default_parameters": {},
   "duration": 11.846729,
   "end_time": "2022-08-19T18:23:42.736191",
   "environment_variables": {},
   "exception": null,
   "input_path": "__notebook__.ipynb",
   "output_path": "__notebook__.ipynb",
   "parameters": {},
   "start_time": "2022-08-19T18:23:30.889462",
   "version": "2.3.4"
  }
 },
 "nbformat": 4,
 "nbformat_minor": 5
}
